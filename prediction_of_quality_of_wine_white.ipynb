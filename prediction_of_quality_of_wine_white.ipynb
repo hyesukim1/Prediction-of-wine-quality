{
  "nbformat": 4,
  "nbformat_minor": 0,
  "metadata": {
    "colab": {
      "name": "prediction of quality of wine_white.ipynb",
      "private_outputs": true,
      "provenance": [],
      "authorship_tag": "ABX9TyPC6QyL3wQlO1Sr2cIu+0w6",
      "include_colab_link": true
    },
    "kernelspec": {
      "name": "python3",
      "display_name": "Python 3"
    },
    "language_info": {
      "name": "python"
    }
  },
  "cells": [
    {
      "cell_type": "markdown",
      "metadata": {
        "id": "view-in-github",
        "colab_type": "text"
      },
      "source": [
        "<a href=\"https://colab.research.google.com/github/hyesukim1/Prediction-of-wine-quality/blob/main/prediction_of_quality_of_wine_white.ipynb\" target=\"_parent\"><img src=\"https://colab.research.google.com/assets/colab-badge.svg\" alt=\"Open In Colab\"/></a>"
      ]
    },
    {
      "cell_type": "markdown",
      "source": [
        "# 케글 api로 연결하여 데이터 로드"
      ],
      "metadata": {
        "id": "kXuevgGiIzO2"
      }
    },
    {
      "cell_type": "code",
      "execution_count": null,
      "metadata": {
        "id": "lN_Herc3bIwk"
      },
      "outputs": [],
      "source": [
        "!pip install kaggle\n",
        "from google.colab import files\n",
        "files.upload()"
      ]
    },
    {
      "cell_type": "code",
      "source": [
        "# ls -1ha kaggle.json\n",
        "\n",
        "# json file 이동시키기\n",
        "!mkdir -p ~/.kaggle\n",
        "!cp kaggle.json ~/.kaggle/\n",
        "\n",
        "# permission warning 방지\n",
        "!chmod 600 ~/.kaggle/kaggle.json"
      ],
      "metadata": {
        "id": "MgXo8dr4JNQI"
      },
      "execution_count": null,
      "outputs": []
    },
    {
      "cell_type": "code",
      "source": [
        "!kaggle datasets download -d uciml/red-wine-quality-cortez-et-al-2009"
      ],
      "metadata": {
        "id": "dmYY6_ZPJYrF"
      },
      "execution_count": null,
      "outputs": []
    },
    {
      "cell_type": "code",
      "source": [
        "!ls"
      ],
      "metadata": {
        "id": "kn4hpyKPKoMn"
      },
      "execution_count": null,
      "outputs": []
    },
    {
      "cell_type": "markdown",
      "source": [
        "----"
      ],
      "metadata": {
        "id": "tYo3soZkK1wx"
      }
    },
    {
      "cell_type": "markdown",
      "source": [
        "## 가설\n"
      ],
      "metadata": {
        "id": "WQOkMxU_L6oh"
      }
    },
    {
      "cell_type": "markdown",
      "source": [
        "Model\n",
        "1. Random Forest Classifier\n",
        "2. Stochastic Gradient Descent Classifier\n",
        "3. Support Vector Classifier\n",
        "\n",
        "Model Performance\n",
        "1. Grid Search CV\n",
        "2. Cross Validation Score"
      ],
      "metadata": {
        "id": "N9LK76ejK4PL"
      }
    },
    {
      "cell_type": "markdown",
      "source": [
        "### 변수 설명\n",
        "\n",
        "#### 와인의 각종 산은 침샘을 자극해서 식욕을 돋워주고 단맛과 조화를 이뤄 질리지 않는 맛을 만들어주기 때문에 산도가 중요한 변수이다.\n",
        "\n",
        "1. fixed acidity(고정 산도): 와인에 포함된 대부분의 산이며 와인의 산도를 제어\n",
        "\n",
        "2. volatile actidity(휘발성 산도): 와인에서 식초와 같은 향을 주는 휘발성 산\n",
        "\n",
        "3. citric acid(구연산): 와인용 포도에 매우 적은 양을 포함함, 포도의 산미가 약하면 산미 보조제를 더 첨가해 생산함\n",
        "\n",
        "4. residual sugar(잔류 설탕/grams per liter): 알코올 발효가 끝난 후 와인에 남은 천연 포도당\n",
        "\n",
        "5. chlorides(염화물): 와인에 포함된 소금의 양으로 짠맛을 내고 신맛을 좌우함\n",
        "\n",
        "6. free sulfur dioxide(자유 이산화황), total sulfur dioxide(총 이산화황), sulphates(황화합물):특정 박테리아와 효모를 죽여서 와인을 오래 보관하는 역할\n",
        "\n",
        "7. density(밀도): 바디의 높고 낮음을 표현하는 와인의 무게감을 의미\n",
        "\n",
        "8. pH(산성도): 와인의 신맛의 정도를 나타냄\n",
        "\n",
        "9. alcohol(알코올): 와인에 단맛을 주며 바디감에 영향을 줌\n",
        "\n",
        "10. quality(품질): 예측하려고 하는 변수\n"
      ],
      "metadata": {
        "id": "LmgcUciGNZvM"
      }
    },
    {
      "cell_type": "markdown",
      "source": [
        "# Importing Libraries"
      ],
      "metadata": {
        "id": "fdJAzPmieTMK"
      }
    },
    {
      "cell_type": "code",
      "source": [
        "import pandas as pd\n",
        "import seaborn as sns\n",
        "import matplotlib.pyplot as plt\n",
        "from sklearn.ensemble import RandomForestClassifier\n",
        "from sklearn.linear_model import SGDClassifier\n",
        "from sklearn.metrics import confusion_matrix, classification_report\n",
        "from sklearn.preprocessing import StandardScaler, LabelEncoder\n",
        "from sklearn.model_selection import train_test_split, GridSearchCV, cross_val_score\n",
        "%matplotlib inline"
      ],
      "metadata": {
        "id": "dwDDMGN0Kpxg"
      },
      "execution_count": null,
      "outputs": []
    },
    {
      "cell_type": "code",
      "source": [
        "# data load\n",
        "wine_data = pd.read_csv('/content/red-wine-quality-cortez-et-al-2009.zip')"
      ],
      "metadata": {
        "id": "LA9DpqVgMkrm"
      },
      "execution_count": null,
      "outputs": []
    },
    {
      "cell_type": "code",
      "source": [
        "wine_data.head()"
      ],
      "metadata": {
        "id": "myhbKQxFM3yo"
      },
      "execution_count": null,
      "outputs": []
    },
    {
      "cell_type": "code",
      "source": [
        "wine_data.info()\n",
        "wine_data.shape\n",
        "wine_data.describe()\n",
        "wine_data.quality.unique()\n",
        "wine_data.quality.value_counts()"
      ],
      "metadata": {
        "id": "FL2rFKwtYc-L"
      },
      "execution_count": null,
      "outputs": []
    },
    {
      "cell_type": "code",
      "source": [
        "# 상관관게 분석\n",
        "corr_wine = wine_data.corr()\n",
        "corr_wine = corr_wine.apply(lambda x: round(x, 2))\n",
        "corr_wine\n",
        "\n",
        "# 핏쳐가 많기 때문에 히트맵으로 시각화\n",
        "fig, ax = plt.subplots(figsize=(12, 6))\n",
        "\n",
        "sns.heatmap(corr_wine,\n",
        "            annot = True,\n",
        "            ax = ax,\n",
        "            linewidths = 0.4,\n",
        "            linecolor = 'white',\n",
        "            fmt = '.1f',\n",
        "            cmap = 'viridis')"
      ],
      "metadata": {
        "id": "m0mkto_ZNEzm"
      },
      "execution_count": null,
      "outputs": []
    },
    {
      "cell_type": "code",
      "source": [
        "# 밸런스한 데이터 인지 확인\n",
        "sns.countplot(x = 'quality', data=wine_data)"
      ],
      "metadata": {
        "id": "1eugTJkqcALB"
      },
      "execution_count": null,
      "outputs": []
    },
    {
      "cell_type": "code",
      "source": [
        "sns.boxplot('quality', 'fixed acidity', data = wine_data)"
      ],
      "metadata": {
        "id": "psMaIEgluu3C"
      },
      "execution_count": null,
      "outputs": []
    },
    {
      "cell_type": "code",
      "source": [
        "sns.boxplot('quality', 'volatile acidity', data = wine_data)"
      ],
      "metadata": {
        "id": "8ZNkeoohXv6t"
      },
      "execution_count": null,
      "outputs": []
    },
    {
      "cell_type": "code",
      "source": [
        "sns.boxplot('quality', 'citric acid', data = wine_data)"
      ],
      "metadata": {
        "id": "2eOeztHlYPdp"
      },
      "execution_count": null,
      "outputs": []
    },
    {
      "cell_type": "code",
      "source": [
        "sns.boxplot('quality', 'residual sugar', data = wine_data)"
      ],
      "metadata": {
        "id": "G6wr1HaVYTsi"
      },
      "execution_count": null,
      "outputs": []
    },
    {
      "cell_type": "code",
      "source": [
        "sns.boxplot('quality', 'chlorides', data = wine_data)"
      ],
      "metadata": {
        "id": "kcrIug2jYa-q"
      },
      "execution_count": null,
      "outputs": []
    },
    {
      "cell_type": "code",
      "source": [
        "sns.boxplot('quality', 'free sulfur dioxide', data = wine_data)"
      ],
      "metadata": {
        "id": "l1y7C24-YhGX"
      },
      "execution_count": null,
      "outputs": []
    },
    {
      "cell_type": "code",
      "source": [
        "sns.boxplot('quality', 'total sulfur dioxide', data = wine_data)"
      ],
      "metadata": {
        "id": "a-AJetRSYmGE"
      },
      "execution_count": null,
      "outputs": []
    },
    {
      "cell_type": "code",
      "source": [
        "sns.boxplot('quality', 'density', data = wine_data)"
      ],
      "metadata": {
        "id": "7E0_nNSZYq15"
      },
      "execution_count": null,
      "outputs": []
    },
    {
      "cell_type": "code",
      "source": [
        "sns.boxplot('quality', 'pH', data = wine_data)"
      ],
      "metadata": {
        "id": "2-68d2H_YwPS"
      },
      "execution_count": null,
      "outputs": []
    },
    {
      "cell_type": "code",
      "source": [
        "sns.boxplot('quality', 'sulphates', data = wine_data)"
      ],
      "metadata": {
        "id": "AzBBqAzxYzVv"
      },
      "execution_count": null,
      "outputs": []
    },
    {
      "cell_type": "code",
      "source": [
        "sns.boxplot('quality', 'alcohol', data = wine_data)"
      ],
      "metadata": {
        "id": "6h3BdmFkY4Jy"
      },
      "execution_count": null,
      "outputs": []
    },
    {
      "cell_type": "code",
      "source": [
        "'''\n",
        "review values 나누기\n",
        "1, 2, 3 -> Bad == 1\n",
        "4, 5, 6, 7 -> Average == 2\n",
        "8, 9, 10 -> Excellent == 3\n",
        "'''\n",
        "\n",
        "reviews = []\n",
        "\n",
        "for i in wine_data['quality']:\n",
        "  if i >= 3 and i <= 4:\n",
        "    reviews.append('1')\n",
        "  elif i >= 5 and i <= 6:\n",
        "    reviews.append('2')\n",
        "  elif i >= 7 and i <= 8:\n",
        "    reviews.append('3')\n",
        "\n",
        "wine_data['reviews'] = reviews\n",
        "\n",
        "wine_data"
      ],
      "metadata": {
        "id": "3NRKy4p1Y8C0"
      },
      "execution_count": null,
      "outputs": []
    },
    {
      "cell_type": "code",
      "source": [
        "sns.countplot(x = 'reviews', data=wine_data)"
      ],
      "metadata": {
        "id": "4wtwqzMnaMKC"
      },
      "execution_count": null,
      "outputs": []
    },
    {
      "cell_type": "code",
      "source": [
        "import collections\n",
        "collections.Counter(wine_data['reviews'])"
      ],
      "metadata": {
        "id": "XIsyxkfWbGxd"
      },
      "execution_count": null,
      "outputs": []
    },
    {
      "cell_type": "code",
      "source": [
        "x = wine_data.iloc[:, :11]\n",
        "y = wine_data['reviews']"
      ],
      "metadata": {
        "id": "BPR0CCz5cpW_"
      },
      "execution_count": null,
      "outputs": []
    },
    {
      "cell_type": "code",
      "source": [
        "'''\n",
        "StandardSacler\n",
        "- 변수들이 너무 스케일이 다르기 때문에 데이터 스케일 조정 필요\n",
        "- 평균 0, 분산 1로 조정\n",
        "'''\n",
        "\n",
        "from sklearn.preprocessing import StandardScaler\n",
        "sc = StandardScaler()\n",
        "sc_x = sc.fit_transform(x)\n",
        "print(sc_x)"
      ],
      "metadata": {
        "id": "QKUTRMSqbUO0"
      },
      "execution_count": null,
      "outputs": []
    },
    {
      "cell_type": "code",
      "source": [
        "'''\n",
        "PCA\n",
        "- 차원의 저주: 머신러닝 훈련 샘플이 각각 수백만개의 특성을 가지고 있을때\n",
        "  유의미한 특성을 찾기가 어렵고 훈련을 느리게 하기 때문에 결과적으로 성능저하를 야기함\n",
        "- PCA를 통해서 분산을 최대로 보존할 수 있는 축을 선택해 정보를 가장 적게 손실함\n",
        "즉, 분산이 최대인 축을 찾고, 이 첫번째 축에 직교하고 남은 분산을 최대한 보존하는 2번째 축을 찾는다\n",
        "'''\n",
        "\n",
        "from sklearn.decomposition import PCA\n",
        "import numpy as np\n",
        "pca = PCA()\n",
        "pca_x = pca.fit_transform(x)\n",
        "\n",
        "plt.figure(figsize=(10, 10))\n",
        "plt.plot(np.cumsum(pca.explained_variance_ratio_), 'ro-')\n",
        "plt.grid()"
      ],
      "metadata": {
        "id": "p-oe-6P7c-VH"
      },
      "execution_count": null,
      "outputs": []
    },
    {
      "cell_type": "code",
      "source": [
        "pca_new = PCA(n_components = 8)\n",
        "new_x = pca_new.fit_transform(x)\n",
        "print(new_x)"
      ],
      "metadata": {
        "id": "xKBb4wggjhqJ"
      },
      "execution_count": null,
      "outputs": []
    },
    {
      "cell_type": "code",
      "source": [
        "from sklearn.model_selection import train_test_split\n",
        "\n",
        "x_train, x_test, y_train, y_test = train_test_split(new_x, y, test_size=0.25)\n",
        "\n",
        "print(x_train.shape)\n",
        "print(y_train.shape)\n",
        "print(x_test.shape)\n",
        "print(y_test.shape)"
      ],
      "metadata": {
        "id": "vQDI_sdmkRLk"
      },
      "execution_count": null,
      "outputs": []
    },
    {
      "cell_type": "markdown",
      "source": [
        "# Machine Learning Algorithms\n",
        "\n",
        "1. Logistic Regression\n",
        "2. Decision Trees\n",
        "3. Naive Bayes\n",
        "4. Random Forests\n",
        "5. SVM"
      ],
      "metadata": {
        "id": "H7ps35WsnApo"
      }
    },
    {
      "cell_type": "code",
      "source": [
        "from sklearn.linear_model import LogisticRegression\n",
        "from sklearn.metrics import confusion_matrix, accuracy_score\n",
        "\n",
        "lr = LogisticRegression()\n",
        "lr.fit(x_train, y_train)\n",
        "lr_predict = lr.predict(x_test)"
      ],
      "metadata": {
        "id": "NTIyULrGmwbm"
      },
      "execution_count": null,
      "outputs": []
    },
    {
      "cell_type": "code",
      "source": [
        "lr_conf_matrix = confusion_matrix(y_test, lr_predict)\n",
        "lr_acc_score = accuracy_score(y_test, lr_predict)\n",
        "print(lr_conf_matrix)\n",
        "print(lr_acc_score*100)"
      ],
      "metadata": {
        "id": "1MhHmNUgsu-o"
      },
      "execution_count": null,
      "outputs": []
    },
    {
      "cell_type": "code",
      "source": [
        "from sklearn.tree import DecisionTreeClassifier\n",
        "dt = DecisionTreeClassifier()\n",
        "dt.fit(x_train, y_train)\n",
        "dt_pred = dt.predict(x_test)"
      ],
      "metadata": {
        "id": "L7JyZRzutRyK"
      },
      "execution_count": null,
      "outputs": []
    },
    {
      "cell_type": "code",
      "source": [
        "dt_conf_matrix = confusion_matrix(y_test, dt_pred)\n",
        "dt_acc_score = accuracy_score(y_test, dt_pred)\n",
        "print(dt_conf_matrix)\n",
        "print(dt_acc_score*100)"
      ],
      "metadata": {
        "id": "LdjSZ1EVvUsK"
      },
      "execution_count": null,
      "outputs": []
    },
    {
      "cell_type": "code",
      "source": [
        "from sklearn.naive_bayes import GaussianNB\n",
        "nb = GaussianNB()\n",
        "nb.fit(x_train, y_train)\n",
        "nb_pred = nb.predict(x_test)"
      ],
      "metadata": {
        "id": "KIEOY7Dpv0AK"
      },
      "execution_count": null,
      "outputs": []
    },
    {
      "cell_type": "code",
      "source": [
        "nb_conf_matrix = confusion_matrix(y_test, nb_pred)\n",
        "nb_acc_score = accuracy_score(y_test, nb_pred)\n",
        "print(nb_conf_matrix)\n",
        "print(nb_acc_score*100)"
      ],
      "metadata": {
        "id": "7xfBdSgDwOut"
      },
      "execution_count": null,
      "outputs": []
    },
    {
      "cell_type": "code",
      "source": [
        "from sklearn.ensemble import RandomForestClassifier\n",
        "rf = RandomForestClassifier()\n",
        "rf.fit(x_train, y_train)\n",
        "rf_predict = rf.predict(x_test)"
      ],
      "metadata": {
        "id": "KsFe8elmwo88"
      },
      "execution_count": null,
      "outputs": []
    },
    {
      "cell_type": "code",
      "source": [
        "rf_conf_matrix = confusion_matrix(y_test, rf_predict)\n",
        "rf_acc_score = accuracy_score(y_test, rf_predict)\n",
        "print(rf_conf_matrix)\n",
        "print(rf_acc_score*100)"
      ],
      "metadata": {
        "id": "awVFTDC5x3Wz"
      },
      "execution_count": null,
      "outputs": []
    },
    {
      "cell_type": "code",
      "source": [
        "from sklearn.svm import SVC\n",
        "\n",
        "lin_svc = SVC()\n",
        "lin_svc.fit(x_train, y_train)\n",
        "lin_svc = rf.predict(x_test)"
      ],
      "metadata": {
        "id": "wKZySa-UyKfJ"
      },
      "execution_count": null,
      "outputs": []
    },
    {
      "cell_type": "code",
      "source": [
        "lin_svc_conf_matrix = confusion_matrix(y_test, rf_predict)\n",
        "lin_svc_acc_score = accuracy_score(y_test, rf_predict)\n",
        "print(lin_svc_conf_matrix)\n",
        "print(lin_svc_acc_score*100)"
      ],
      "metadata": {
        "id": "o6OBMjwky_XQ"
      },
      "execution_count": null,
      "outputs": []
    },
    {
      "cell_type": "code",
      "source": [
        ""
      ],
      "metadata": {
        "id": "-XnP_MeDzWpQ"
      },
      "execution_count": null,
      "outputs": []
    }
  ]
}